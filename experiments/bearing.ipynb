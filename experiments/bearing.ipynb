{
 "cells": [
  {
   "cell_type": "code",
   "execution_count": 1,
   "metadata": {},
   "outputs": [],
   "source": [
    "import pandas as pd\n",
    "import numpy as np\n",
    "\n",
    "\n",
    "def calculate_bearings_vectorized(df):\n",
    "    # 将经纬度从度数转换为弧度\n",
    "    lat_rad = np.radians(df[\"latitude\"].values)\n",
    "    lon_rad = np.radians(df[\"longitude\"].values)\n",
    "\n",
    "    # 使用NumPy的广播初始化经度差\n",
    "    delta_lon = lon_rad[:, np.newaxis] - lon_rad\n",
    "\n",
    "    # 计算所有成对的方位角\n",
    "    x = np.sin(delta_lon) * np.cos(lat_rad[:, np.newaxis])\n",
    "    y = np.cos(lat_rad) * np.sin(lat_rad[:, np.newaxis]) - np.sin(\n",
    "        lat_rad) * np.cos(lat_rad[:, np.newaxis]) * np.cos(delta_lon)\n",
    "\n",
    "    # np.arctan2返回值介于 [-π, π]之间，将其转换为[0, 2π]范围内\n",
    "    initial_bearing = np.arctan2(x, y)\n",
    "    initial_bearing = np.degrees(initial_bearing)\n",
    "    bearing = (initial_bearing + 360) % 360\n",
    "\n",
    "    # 设置自身到自身的方位角为NaN\n",
    "    np.fill_diagonal(bearing, np.nan)\n",
    "\n",
    "    return bearing\n",
    "\n",
    "\n",
    "# 读取CSV文件\n",
    "df = pd.read_csv(\"/home/yuxuan/wqy/Air_inference/data_/1085_stations.csv\")\n",
    "\n",
    "# 计算方位角\n",
    "bearings = calculate_bearings_vectorized(df)"
   ]
  },
  {
   "cell_type": "code",
   "execution_count": 2,
   "metadata": {},
   "outputs": [
    {
     "name": "stdout",
     "output_type": "stream",
     "text": [
      "[[         nan 357.34463592   0.38224859 ...  13.37969205  13.1400336\n",
      "   12.50623281]\n",
      " [177.33776672          nan   5.77409269 ...  13.53286659  13.29110698\n",
      "   12.66046728]\n",
      " [180.3837917  185.78248245          nan ...  13.58321587  13.34015367\n",
      "   12.70854303]\n",
      " ...\n",
      " [196.69704804 196.84539782 196.88355783 ...          nan 268.13383346\n",
      "  209.09142306]\n",
      " [196.39452481 196.54096578 196.57793187 ...  88.09420144          nan\n",
      "  205.40864641]\n",
      " [195.45723963 195.60816938 195.64472379 ...  28.81373047  25.17209538\n",
      "           nan]]\n"
     ]
    }
   ],
   "source": [
    "print(bearings)\n",
    "#"
   ]
  },
  {
   "cell_type": "code",
   "execution_count": 3,
   "metadata": {},
   "outputs": [
    {
     "name": "stdout",
     "output_type": "stream",
     "text": [
      "[[         nan 177.33776672 180.3837917  ... 196.69704804 196.39452481\n",
      "  195.45723963]\n",
      " [357.34463592          nan 185.78248245 ... 196.84539782 196.54096578\n",
      "  195.60816938]\n",
      " [  0.38224859   5.77409269          nan ... 196.88355783 196.57793187\n",
      "  195.64472379]\n",
      " ...\n",
      " [ 13.37969205  13.53286659  13.58321587 ...          nan  88.09420144\n",
      "   28.81373047]\n",
      " [ 13.1400336   13.29110698  13.34015367 ... 268.13383346          nan\n",
      "   25.17209538]\n",
      " [ 12.50623281  12.66046728  12.70854303 ... 209.09142306 205.40864641\n",
      "           nan]]\n"
     ]
    }
   ],
   "source": [
    "bearings = np.transpose(bearings)\n",
    "print(bearings)"
   ]
  },
  {
   "cell_type": "code",
   "execution_count": 4,
   "metadata": {},
   "outputs": [],
   "source": [
    "# 初始化8个区间数组\n",
    "intervals = [np.zeros_like(bearings, dtype=np.int8) for _ in range(8)]\n",
    "\n",
    "\n",
    "# 定义一个函数来检查角度是否属于特定区间\n",
    "def in_interval(angle, interval_index):\n",
    "    lower_bound = interval_index * (np.pi / 4)\n",
    "    upper_bound = (interval_index + 1) * ((np.pi / 4))\n",
    "    return (angle >= lower_bound) & (angle < upper_bound)\n",
    "\n",
    "\n",
    "# 填充8个区间数组\n",
    "for i in range(8):\n",
    "    intervals[i] = in_interval(bearings, i).astype(np.int8)"
   ]
  },
  {
   "cell_type": "code",
   "execution_count": 5,
   "metadata": {},
   "outputs": [
    {
     "name": "stdout",
     "output_type": "stream",
     "text": [
      "(1085, 1085)\n",
      "[[0 0 0 ... 0 0 0]\n",
      " [0 0 0 ... 0 0 0]\n",
      " [1 0 0 ... 0 0 0]\n",
      " ...\n",
      " [0 0 0 ... 0 0 0]\n",
      " [0 0 0 ... 0 0 0]\n",
      " [0 0 0 ... 0 0 0]]\n"
     ]
    }
   ],
   "source": [
    "print(intervals[0].shape)\n",
    "print(intervals[0][:10])"
   ]
  },
  {
   "cell_type": "code",
   "execution_count": 6,
   "metadata": {},
   "outputs": [
    {
     "name": "stdout",
     "output_type": "stream",
     "text": [
      "对角线元素是否全为0: True\n",
      "对角线元素是否全为0: True\n",
      "对角线元素是否全为0: True\n",
      "对角线元素是否全为0: True\n",
      "对角线元素是否全为0: True\n",
      "对角线元素是否全为0: True\n",
      "对角线元素是否全为0: True\n",
      "对角线元素是否全为0: True\n"
     ]
    }
   ],
   "source": [
    "for i in range(8):\n",
    "    # 提取对角线元素\n",
    "    diagonal_elements = np.diag(intervals[i])\n",
    "\n",
    "    # 检查对角线元素是否全为0\n",
    "    all_zeros = np.all(diagonal_elements == 0)\n",
    "\n",
    "    # print(\"对角线元素:\", diagonal_elements)\n",
    "    print(\"对角线元素是否全为0:\", all_zeros)"
   ]
  },
  {
   "cell_type": "code",
   "execution_count": 7,
   "metadata": {},
   "outputs": [
    {
     "name": "stdout",
     "output_type": "stream",
     "text": [
      "矩阵intervals0中为1的元素数量: 2537\n",
      "矩阵intervals1中为1的元素数量: 2604\n",
      "矩阵intervals2中为1的元素数量: 2419\n",
      "矩阵intervals3中为1的元素数量: 2584\n",
      "矩阵intervals4中为1的元素数量: 2739\n",
      "矩阵intervals5中为1的元素数量: 2863\n",
      "矩阵intervals6中为1的元素数量: 3012\n",
      "矩阵intervals7中为1的元素数量: 3138\n"
     ]
    }
   ],
   "source": [
    "for i in range(8):\n",
    "    # 统计矩阵中元素为1的数量\n",
    "    count_ones = np.sum(intervals[i] == 1)\n",
    "\n",
    "    print(f\"矩阵intervals{i}中为1的元素数量:\", count_ones)"
   ]
  },
  {
   "cell_type": "code",
   "execution_count": 8,
   "metadata": {},
   "outputs": [],
   "source": [
    "np.save(\"/home/yuxuan/lgf/AirFormer/data/stations/intervals_all.npy\",\n",
    "        intervals)"
   ]
  },
  {
   "cell_type": "code",
   "execution_count": 10,
   "metadata": {},
   "outputs": [],
   "source": [
    "np.savez_compressed(\n",
    "    \"/home/yuxuan/lgf/AirFormer/data/stations/bearing.npz\",\n",
    "    bearing0=intervals[0],\n",
    "    bearing1=intervals[1],\n",
    "    bearing2=intervals[2],\n",
    "    bearing3=intervals[3],\n",
    "    bearing4=intervals[4],\n",
    "    bearing5=intervals[5],\n",
    "    bearing6=intervals[6],\n",
    "    bearing7=intervals[7],\n",
    ")"
   ]
  },
  {
   "cell_type": "code",
   "execution_count": 1,
   "metadata": {},
   "outputs": [],
   "source": [
    "import pandas as pd\n",
    "import numpy as np\n",
    "from geopy.distance import geodesic\n",
    "\n",
    "# 从 CSV 文件中读取监测站点的经纬度数据\n",
    "df = pd.read_csv(\"/home/yuxuan/wqy/Air_inference/data_/1085_stations.csv\")\n",
    "\n",
    "# 获取经纬度坐标列的数据\n",
    "coordinates = df[[\"latitude\", \"longitude\"]].values\n",
    "\n",
    "# 创建一个 1085*1085 的 numpy 数组，用于存储距离\n",
    "num_stations = len(coordinates)\n",
    "distances = np.zeros((num_stations, num_stations))\n",
    "\n",
    "# 计算每对监测站点之间的距离\n",
    "for i in range(num_stations):\n",
    "    for j in range(num_stations):\n",
    "        # 获取当前两个监测站点的经纬度坐标\n",
    "        coord1 = coordinates[i]\n",
    "        coord2 = coordinates[j]\n",
    "\n",
    "        # 计算两点之间的距离，并将结果存储在数组中\n",
    "        distances[i][j] = geodesic(coord1, coord2).kilometers\n",
    "\n",
    "# distances 数组现在包含了每对监测站点之间的距离\n"
   ]
  },
  {
   "cell_type": "code",
   "execution_count": 2,
   "metadata": {},
   "outputs": [
    {
     "name": "stdout",
     "output_type": "stream",
     "text": [
      "[[   0.           19.59334256   30.59614387 ... 2507.79907013\n",
      "  2504.28133999 2329.87192854]\n",
      " [  19.59334256    0.           11.08011474 ... 2489.33095544\n",
      "  2485.77868926 2311.26610628]\n",
      " [  30.59614387   11.08011474    0.         ... 2478.45944974\n",
      "  2474.89590222 2300.35072648]\n",
      " ...\n",
      " [2507.79907013 2489.33095544 2478.45944974 ...    0.\n",
      "    13.41242861  185.16812344]\n",
      " [2504.28133999 2485.77868926 2474.89590222 ...   13.41242861\n",
      "     0.          178.66079655]\n",
      " [2329.87192854 2311.26610628 2300.35072648 ...  185.16812344\n",
      "   178.66079655    0.        ]]\n"
     ]
    }
   ],
   "source": [
    "print(distances)"
   ]
  },
  {
   "cell_type": "code",
   "execution_count": null,
   "metadata": {},
   "outputs": [],
   "source": [
    "# 您可以将它保存到文件中\n",
    "np.save(\"/home/yuxuan/lgf/AirFormer/data/stations/distances.npy\", distances)"
   ]
  }
 ],
 "metadata": {
  "kernelspec": {
   "display_name": "sicong",
   "language": "python",
   "name": "python3"
  },
  "language_info": {
   "codemirror_mode": {
    "name": "ipython",
    "version": 3
   },
   "file_extension": ".py",
   "mimetype": "text/x-python",
   "name": "python",
   "nbconvert_exporter": "python",
   "pygments_lexer": "ipython3",
   "version": "3.9.-1"
  }
 },
 "nbformat": 4,
 "nbformat_minor": 2
}
